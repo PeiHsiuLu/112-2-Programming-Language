{
 "cells": [
  {
   "cell_type": "code",
   "execution_count": 1,
   "id": "aa987c4a",
   "metadata": {},
   "outputs": [
    {
     "name": "stdout",
     "output_type": "stream",
     "text": [
      "DataFrame：\n",
      "        Age          Workclass       Income   Education  Education-Num  \\\n",
      "0      39.0          State-gov   77516.0000   Bachelors           13.0   \n",
      "1      50.0   Self-emp-not-inc   83311.0000   Bachelors           13.0   \n",
      "2      38.0            Private  215646.0000     HS-grad            9.0   \n",
      "3      53.0            Private  234721.0000        11th            7.0   \n",
      "4      28.0            Private  338409.0000   Bachelors           13.0   \n",
      "...     ...                ...          ...         ...            ...   \n",
      "32558  58.0            Private  151910.0000     HS-grad            9.0   \n",
      "32559  22.0            Private  201490.0000     HS-grad            9.0   \n",
      "32560  52.0       Self-emp-inc  287927.0000     HS-grad            9.0   \n",
      "32561   NaN                NaN  189778.3665         NaN            NaN   \n",
      "32562   NaN                NaN  105548.3569         NaN            NaN   \n",
      "\n",
      "            Marital Status          Occupation    Relationship    Race  \\\n",
      "0            Never-married        Adm-clerical   Not-in-family   White   \n",
      "1       Married-civ-spouse     Exec-managerial         Husband   White   \n",
      "2                 Divorced   Handlers-cleaners   Not-in-family   White   \n",
      "3       Married-civ-spouse   Handlers-cleaners         Husband   Black   \n",
      "4       Married-civ-spouse      Prof-specialty            Wife   Black   \n",
      "...                    ...                 ...             ...     ...   \n",
      "32558              Widowed        Adm-clerical       Unmarried   White   \n",
      "32559        Never-married        Adm-clerical       Own-child   White   \n",
      "32560   Married-civ-spouse     Exec-managerial            Wife   White   \n",
      "32561                  NaN                 NaN             NaN     NaN   \n",
      "32562                  NaN                 NaN             NaN     NaN   \n",
      "\n",
      "           Sex  Capital Gain  Capital Loss  Hours per Week  Native Country  \n",
      "0         Male        2174.0           0.0            40.0   United-States  \n",
      "1         Male           0.0           0.0            13.0   United-States  \n",
      "2         Male           0.0           0.0            40.0   United-States  \n",
      "3         Male           0.0           0.0            40.0   United-States  \n",
      "4       Female           0.0           0.0            40.0            Cuba  \n",
      "...        ...           ...           ...             ...             ...  \n",
      "32558   Female           0.0           0.0            40.0   United-States  \n",
      "32559     Male           0.0           0.0            20.0   United-States  \n",
      "32560   Female       15024.0           0.0            40.0   United-States  \n",
      "32561      NaN           NaN           NaN             NaN             NaN  \n",
      "32562      NaN           NaN           NaN             NaN             NaN  \n",
      "\n",
      "[32563 rows x 14 columns]\n",
      "\n",
      "薪資統計數據：\n",
      "平均薪資：189775.77983365784\n",
      "標準差：105546.14758192768\n",
      "中位數：178356.0\n"
     ]
    }
   ],
   "source": [
    "import pandas as pd\n",
    "import numpy as np\n",
    "\n",
    "# 讀取 CSV 檔案並轉換為 DataFrame\n",
    "df = pd.read_csv('adult.csv')\n",
    "\n",
    "# 顯示 DataFrame 的前五行數據\n",
    "print(\"DataFrame：\")\n",
    "print(df)\n",
    "\n",
    "# 使用 NumPy 計算薪資的統計數據\n",
    "salary_values = df['Income'].replace(['>50K', '<=50K'], [55000, 40000])  # 將薪資標籤轉換為數值\n",
    "salary_mean = np.mean(salary_values)\n",
    "salary_std = np.std(salary_values)\n",
    "salary_median = np.median(salary_values)\n",
    "\n",
    "# 顯示薪資統計數據\n",
    "print(\"\\n薪資統計數據：\")\n",
    "print(f\"平均薪資：{salary_mean}\")\n",
    "print(f\"標準差：{salary_std}\")\n",
    "print(f\"中位數：{salary_median}\")"
   ]
  },
  {
   "cell_type": "code",
   "execution_count": null,
   "id": "d99434d4",
   "metadata": {},
   "outputs": [],
   "source": []
  }
 ],
 "metadata": {
  "kernelspec": {
   "display_name": "Python 3 (ipykernel)",
   "language": "python",
   "name": "python3"
  },
  "language_info": {
   "codemirror_mode": {
    "name": "ipython",
    "version": 3
   },
   "file_extension": ".py",
   "mimetype": "text/x-python",
   "name": "python",
   "nbconvert_exporter": "python",
   "pygments_lexer": "ipython3",
   "version": "3.11.5"
  }
 },
 "nbformat": 4,
 "nbformat_minor": 5
}
